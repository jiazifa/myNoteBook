{
 "cells": [
  {
   "cell_type": "markdown",
   "metadata": {},
   "source": [
    "# 在此示例中，表示的是一种 (FIFO) 的模型\n",
    "> 队列可以保证元素进出顺序为(FIFO) first-in, first-out"
   ]
  },
  {
   "cell_type": "code",
   "execution_count": 19,
   "metadata": {},
   "outputs": [],
   "source": [
    "class Queue:\n",
    "    def __init__(self, queue: list):\n",
    "        self.queue = queue\n",
    "        self.head = 0 # 通过索引可以提高出栈时候的效率\n",
    "        \n",
    "    def isempty(self):\n",
    "        return self.count == 0\n",
    "    \n",
    "    def count(self):\n",
    "        return len(self.queue) - self.head\n",
    "    \n",
    "    def enqueue(self, obj):\n",
    "        self.queue.append(obj)\n",
    "        \n",
    "    def dequeue(self) -> any:\n",
    "        if self.head < len(self.queue):\n",
    "            obj = self.queue[self.head]\n",
    "            self.queue[self.head] = None\n",
    "            self.head += 1\n",
    "            return obj\n",
    "        return None"
   ]
  },
  {
   "cell_type": "code",
   "execution_count": 20,
   "metadata": {},
   "outputs": [
    {
     "data": {
      "text/plain": [
       "2"
      ]
     },
     "execution_count": 20,
     "metadata": {},
     "output_type": "execute_result"
    }
   ],
   "source": [
    "queue = Queue([1,2,4])\n",
    "queue.enqueue(4)\n",
    "queue.dequeue()\n",
    "queue.dequeue()"
   ]
  }
 ],
 "metadata": {
  "kernelspec": {
   "display_name": "Python 3",
   "language": "python",
   "name": "python3"
  },
  "language_info": {
   "codemirror_mode": {
    "name": "ipython",
    "version": 3
   },
   "file_extension": ".py",
   "mimetype": "text/x-python",
   "name": "python",
   "nbconvert_exporter": "python",
   "pygments_lexer": "ipython3",
   "version": "3.7.1"
  }
 },
 "nbformat": 4,
 "nbformat_minor": 2
}
