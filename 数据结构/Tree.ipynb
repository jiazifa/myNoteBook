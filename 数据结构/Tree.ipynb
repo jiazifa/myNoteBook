{
 "cells": [
  {
   "cell_type": "markdown",
   "metadata": {},
   "source": [
    "# 介绍几种二叉树\n",
    "> 在链表中，插入、删除速度很快，但查找速度较慢。\n",
    ">\n",
    "> 在数组中，查找速度很快，但插入删除速度很慢。\n",
    ">\n",
    "> 一般无特征的树，没有什么实际用处"
   ]
  },
  {
   "cell_type": "code",
   "execution_count": 13,
   "metadata": {},
   "outputs": [],
   "source": [
    "class Tree:\n",
    "    left: Tree = None\n",
    "    right: Tree = None\n",
    "    value: any = None\n",
    "        \n",
    "    def insert(self, value):\n",
    "        raise \n",
    "    \n",
    "    def search(self, value):\n",
    "        raise"
   ]
  },
  {
   "cell_type": "code",
   "execution_count": 5,
   "metadata": {},
   "outputs": [],
   "source": [
    "# 二叉查找树\n",
    "# 定义：\n",
    "# 若任意节点的左子树不空，则左子树上所有节点的值均小于它的根节点的值\n",
    "# 若任意节点的右子树不空，则右子树上所有节点的值均大于它的根节点的值\n",
    "# 任意节点的左、右子树也分别为二叉查找树"
   ]
  },
  {
   "cell_type": "code",
   "execution_count": 43,
   "metadata": {},
   "outputs": [],
   "source": [
    "class BinarySearchTree(Tree):\n",
    "    def __init__(self, value):\n",
    "        self.value = value\n",
    "        self.left = None\n",
    "        self.right = None\n",
    "        \n",
    "    def insert(self, value):\n",
    "        if value < self.value:\n",
    "            if self.left:\n",
    "                self.left.insert(value)\n",
    "            else: self.left = BinarySearchTree(value)\n",
    "        else:\n",
    "            if self.right: self.right.insert(value)\n",
    "            else: self.right = BinarySearchTree(value)\n",
    "    \n",
    "    def search(self, value):\n",
    "        if value < self.value:\n",
    "            if self.left: self.left.search(value)\n",
    "            else: return None\n",
    "        elif value > self.value:\n",
    "            if self.right: self.right.search(value)\n",
    "            else: return None\n",
    "        else: return self\n",
    "    \n",
    "    def remove(self, value) -> any:\n",
    "        # 移除元素也需要保持整个树的结构不变\n",
    "        if value < self.value:\n",
    "            if self.left: self.left = self.left.remove(value)\n",
    "            else: return None\n",
    "        elif value > self.value:\n",
    "            if self.right: self.right = self.right.remove(value)\n",
    "            else: return None\n",
    "        else: # equal value\n",
    "            if not self.left: return self.right\n",
    "            elif not self.right: return self.left\n",
    "            else:\n",
    "                min_node = self.right.minimum()\n",
    "                self.value = min_node.value\n",
    "                self.right.remove(min_node.value)\n",
    "                \n",
    "    \n",
    "    def minimum(self):\n",
    "        node = self\n",
    "        while node.left:\n",
    "            node = node.left\n",
    "        return node\n",
    "    \n",
    "    def __str__(self):\n",
    "        return '(' + str(self.left or '_') + '  [' + str(self.value or 'Nan') +']  ' + str(self.right or '_') + ')'"
   ]
  },
  {
   "cell_type": "code",
   "execution_count": 44,
   "metadata": {},
   "outputs": [
    {
     "name": "stdout",
     "output_type": "stream",
     "text": [
      "((_  [9]  _)  [10]  (_  [20]  _))\n",
      "(_  [10]  (_  [20]  _))\n"
     ]
    }
   ],
   "source": [
    "binary = BinarySearchTree(10)\n",
    "binary.insert(20)\n",
    "binary.insert(9)\n",
    "print(binary)\n",
    "binary.remove(9)\n",
    "print(binary)"
   ]
  },
  {
   "cell_type": "code",
   "execution_count": null,
   "metadata": {},
   "outputs": [],
   "source": []
  }
 ],
 "metadata": {
  "kernelspec": {
   "display_name": "Python 3",
   "language": "python",
   "name": "python3"
  },
  "language_info": {
   "codemirror_mode": {
    "name": "ipython",
    "version": 3
   },
   "file_extension": ".py",
   "mimetype": "text/x-python",
   "name": "python",
   "nbconvert_exporter": "python",
   "pygments_lexer": "ipython3",
   "version": "3.7.1"
  }
 },
 "nbformat": 4,
 "nbformat_minor": 2
}
