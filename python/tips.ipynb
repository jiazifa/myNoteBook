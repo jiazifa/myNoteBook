{
 "cells": [
  {
   "cell_type": "code",
   "execution_count": 1,
   "metadata": {},
   "outputs": [],
   "source": [
    "# 创建 python 单例"
   ]
  },
  {
   "cell_type": "markdown",
   "metadata": {},
   "source": [
    "1.使用函数装饰器实现单例\n",
    "2.使用类装饰器实现单例\n",
    "3.使用 __new__ 关键字实现单例\n",
    "4.使用 metaclass 实现单例"
   ]
  },
  {
   "cell_type": "code",
   "execution_count": 7,
   "metadata": {},
   "outputs": [
    {
     "name": "stdout",
     "output_type": "stream",
     "text": [
      "True\n",
      "True\n",
      "True\n"
     ]
    }
   ],
   "source": [
    "# 1.使用函数装饰器实现单例\n",
    "def singleton(cls):\n",
    "    _instances = {}\n",
    "    def inner():\n",
    "        if cls not in _instances:\n",
    "            _instances[cls] = cls()\n",
    "        return _instances[cls]\n",
    "    return inner\n",
    "\n",
    "@singleton\n",
    "class TestSingle1:\n",
    "    pass\n",
    "\n",
    "test1 = TestSingle1()\n",
    "test2 = TestSingle1()\n",
    "print(id(test1) == id(test2))\n",
    "\n",
    "# 2.使用类装饰器实现单例 \n",
    "class SingletonCls(object):\n",
    "    def __init__(self, cls):\n",
    "        self._cls = cls\n",
    "        self._instance = {}\n",
    "    def __call__(self):\n",
    "        if self._cls not in self._instance:\n",
    "            self._instance[self._cls] = self._cls()\n",
    "        return self._instance[self._cls]\n",
    "    \n",
    "@SingletonCls\n",
    "class TestSingle2:\n",
    "    def __init__(self):\n",
    "        pass\n",
    "    \n",
    "    pass\n",
    "print(id(TestSingle2()) == id(TestSingle2()))\n",
    "\n",
    "# 3.使用 new 关键字实现单例\n",
    "class SingleClass3:\n",
    "    _instance = None\n",
    "    \n",
    "    def __new__(cls, *args, **kw):\n",
    "        if not cls._instance:\n",
    "            cls._instance = object.__new__(cls, *args, **kw)\n",
    "        return cls._instance\n",
    "    \n",
    "    def __init__(self):\n",
    "        pass\n",
    "\n",
    "#4. 使用 metaclass 实现单例\n",
    "class Singleton(type):\n",
    "_instances = {}\n",
    "def __call__(cls, *args, **kwargs):\n",
    "    if cls not in cls._instances:\n",
    "        cls._instances[cls] = super(Singleton, cls).__call__(*args, **kwargs)\n",
    "    return cls._instances[cls]\n",
    "\n",
    "class Cls4(metaclass=Singleton):\n",
    "    pass\n",
    "\n",
    "print(id(SingleClass3()) == id(SingleClass3()))\n",
    "\n",
    "# "
   ]
  },
  {
   "cell_type": "code",
   "execution_count": null,
   "metadata": {},
   "outputs": [],
   "source": [
    "# 如何在命令行中实现打印刷新"
   ]
  },
  {
   "cell_type": "code",
   "execution_count": null,
   "metadata": {},
   "outputs": [],
   "source": [
    "import sys\n",
    "\n",
    "def flush(content):\n",
    "    sys.stdout.write(\"\\r\" + content)\n",
    "\n",
    "flush(\"hi\")\n",
    "flush(\"hi\")\n",
    "flush(\"hi\")"
   ]
  },
  {
   "cell_type": "code",
   "execution_count": null,
   "metadata": {},
   "outputs": [],
   "source": []
  }
 ],
 "metadata": {
  "kernelspec": {
   "display_name": "Python 3",
   "language": "python",
   "name": "python3"
  },
  "language_info": {
   "codemirror_mode": {
    "name": "ipython",
    "version": 3
   },
   "file_extension": ".py",
   "mimetype": "text/x-python",
   "name": "python",
   "nbconvert_exporter": "python",
   "pygments_lexer": "ipython3",
   "version": "3.7.1"
  }
 },
 "nbformat": 4,
 "nbformat_minor": 2
}