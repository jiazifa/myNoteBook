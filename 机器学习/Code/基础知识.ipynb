{
 "cells": [
  {
   "cell_type": "code",
   "execution_count": 2,
   "metadata": {},
   "outputs": [],
   "source": [
    "import numpy as np"
   ]
  },
  {
   "cell_type": "markdown",
   "metadata": {},
   "source": [
    "* ## numpy 与矩阵运算"
   ]
  },
  {
   "cell_type": "code",
   "execution_count": 9,
   "metadata": {},
   "outputs": [
    {
     "name": "stdout",
     "output_type": "stream",
     "text": [
      "[[ 1.  4.  7. 10.]]\n"
     ]
    }
   ],
   "source": [
    "# [m1, n1] dot [m2, n2] -> [m1, n2]\n",
    "# eg: [1, 4] dot [4, 1] -> [1, 1]\n",
    "A = np.linspace(1, 10, 4) # 根据起止数据等间距地生成数组 \n",
    "B = np.linspace(1, 10, 4)\n",
    "A = A.reshape(1, -1)\n",
    "B = B.reshape(4, -1)\n",
    "C = np.dot(A, B)\n",
    "C.shape"
   ]
  },
  {
   "cell_type": "code",
   "execution_count": null,
   "metadata": {},
   "outputs": [],
   "source": []
  }
 ],
 "metadata": {
  "kernelspec": {
   "display_name": "Python 3",
   "language": "python",
   "name": "python3"
  },
  "language_info": {
   "codemirror_mode": {
    "name": "ipython",
    "version": 3
   },
   "file_extension": ".py",
   "mimetype": "text/x-python",
   "name": "python",
   "nbconvert_exporter": "python",
   "pygments_lexer": "ipython3",
   "version": "3.7.1"
  }
 },
 "nbformat": 4,
 "nbformat_minor": 2
}
