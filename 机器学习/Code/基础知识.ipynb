{
 "cells": [
  {
   "cell_type": "code",
   "execution_count": 1,
   "metadata": {},
   "outputs": [],
   "source": [
    "import numpy as np"
   ]
  },
  {
   "cell_type": "markdown",
   "metadata": {},
   "source": [
    "* ## numpy 与矩阵运算"
   ]
  },
  {
   "cell_type": "code",
   "execution_count": 6,
   "metadata": {},
   "outputs": [
    {
     "data": {
      "text/plain": [
       "array([[0.        , 1.38629436, 1.94591015, 2.30258509]])"
      ]
     },
     "execution_count": 6,
     "metadata": {},
     "output_type": "execute_result"
    }
   ],
   "source": [
    "# [m1, n1] dot [m2, n2] -> [m1, n2]\n",
    "# eg: [1, 4] dot [4, 1] -> [1, 1]\n",
    "A = np.linspace(1, 10, 4) # 根据起止数据等间距地生成数组 \n",
    "B = np.linspace(1, 10, 4)\n",
    "A = A.reshape(1, -1)\n",
    "B = B.reshape(4, -1)\n",
    "## 矩阵的乘法\n",
    "C = np.dot(A, B)\n",
    "\n",
    "## 对应元素相乘 \n",
    "C = np.multiply(A, B)\n",
    "C = np.log(A) # log下什么都不写默认是自然对数"
   ]
  },
  {
   "cell_type": "code",
   "execution_count": null,
   "metadata": {},
   "outputs": [],
   "source": []
  }
 ],
 "metadata": {
  "kernelspec": {
   "display_name": "Python 3",
   "language": "python",
   "name": "python3"
  },
  "language_info": {
   "codemirror_mode": {
    "name": "ipython",
    "version": 3
   },
   "file_extension": ".py",
   "mimetype": "text/x-python",
   "name": "python",
   "nbconvert_exporter": "python",
   "pygments_lexer": "ipython3",
   "version": "3.7.1"
  }
 },
 "nbformat": 4,
 "nbformat_minor": 2
}
