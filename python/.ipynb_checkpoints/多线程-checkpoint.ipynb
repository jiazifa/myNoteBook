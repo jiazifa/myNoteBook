{
 "cells": [
  {
   "cell_type": "code",
   "execution_count": null,
   "metadata": {},
   "outputs": [],
   "source": [
    "import threading\n",
    "import time\n",
    "from queue import LifoQueue, PriorityQueue\n",
    "from multiprocessing import Queue"
   ]
  },
  {
   "cell_type": "code",
   "execution_count": null,
   "metadata": {},
   "outputs": [],
   "source": [
    "# 此为线程模型，需要继承 threading.Lock\n",
    "lock = threading.Lock() # 线程锁\n",
    "\n",
    "class RunThread(threading.Thread):\n",
    "    def __init__(self, name, second):\n",
    "        threading.Thread.__init__(self)\n",
    "        self.name = name\n",
    "        self.second = second\n",
    "    \n",
    "    def run(self):\n",
    "        print('线程开始 ' + str(self.name))\n",
    "        while self.second > 0:\n",
    "            lock.acquire()\n",
    "            print(str(self.name) + '剩余' + str(self.second))\n",
    "            lock.release()\n",
    "            self.second -= 1\n",
    "            time.sleep(1)\n",
    "        print(self.name + '完成')\n",
    "\n",
    "run1 = RunThread('run1', 2)\n",
    "run2 = RunThread('run2', 1)\n",
    "run1.start()\n",
    "run2.start()\n",
    "run1.join()\n",
    "run2.join()"
   ]
  },
  {
   "cell_type": "markdown",
   "metadata": {},
   "source": [
    "* ### 线程优先级队列(Queue)\n",
    "> FIFO -> Queue\n",
    ">\n",
    "> LIFO -> LifoQueue\n",
    ">\n",
    "> 优先级队列 -> PriorityQueue"
   ]
  },
  {
   "cell_type": "code",
   "execution_count": null,
   "metadata": {},
   "outputs": [],
   "source": [
    "num_fetch_threads = 2\n",
    "q = Queue(num_fetch_threads)\n",
    "q.put(1)\n",
    "q.put(2)\n",
    "g = q.get()\n",
    "print('value g is ' + str(g))\n",
    "q = LifoQueue(num_fetch_threads)\n",
    "q.put('a')\n",
    "q.put('b')\n",
    "print(q.get())"
   ]
  },
  {
   "cell_type": "code",
   "execution_count": null,
   "metadata": {},
   "outputs": [],
   "source": [
    "# 优先级队列\n",
    "class Job:\n",
    "    def __init__(self, priority, desc):\n",
    "        self.priority = priority\n",
    "        self.desc = desc\n",
    "    \n",
    "    def __lt__(self, other):\n",
    "        return self.priority < other.priority\n",
    "\n",
    "q = PriorityQueue(3)\n",
    "q.put(Job(5, 'mid'))\n",
    "q.put(Job(10, 'high'))\n",
    "q.put(Job(2, 'low'))\n",
    "print(q.get().desc)"
   ]
  },
  {
   "cell_type": "code",
   "execution_count": null,
   "metadata": {},
   "outputs": [],
   "source": [
    "## 信号量\n",
    "_MAX = 2\n",
    "tray = threading.BoundedSemaphore(_MAX)\n",
    "\n",
    "def func(*args):\n",
    "    tray.acquire()\n",
    "    print(str(args))\n",
    "    tray.release()\n",
    "    \n",
    "thread = threading.Thread(target=func, args=(1))\n",
    "thread.start()\n",
    "thread.join()"
   ]
  },
  {
   "cell_type": "code",
   "execution_count": null,
   "metadata": {},
   "outputs": [],
   "source": [
    "# subprocess\n",
    "import subprocess\n",
    "\n",
    "# 父进程等待子进程完成 返回退出信息(returncode，相当于exit code)\n",
    "result = subprocess.call(['ls', '-a'])\n",
    "print(result)\n",
    "\n",
    "# 父进程等待子进程完成 检查退出信息，如果returncode不为0，则举出错误subprocess.CalledProcessError，该对象包含有returncode属性，可用try...except...来检查\n",
    "result = subprocess.check_call(['ls', '-a'])\n",
    "print(result)\n",
    "\n",
    "# 父进程等待子进程完成 返回子进程向标准输出的输出结果\n",
    "result = subprocess.check_output(['ls', '-a'])\n",
    "print(result)\n",
    "\n",
    "# Popen\n",
    "#实际上，我们上面的三个函数都是基于Popen()的封装(wrapper)。这些封装的目的在于让我们容易使用子进程。当我们想要更个性化我们的需求的时候，就要转向Popen类，该类生成的对象用来代表子进程。 \n",
    "\n",
    "#与上面的封装不同，Popen对象创建后，主程序不会自动等待子进程完成。我们必须调用对象的wait()方法，父进程才会等待 (也就是阻塞block)：\n",
    "\n",
    "child = subprocess.Popen(['ping', '-c', '5', 'localhost'], stdout=subprocess.PIPE)\n",
    "child.wait()\n"
   ]
  },
  {
   "cell_type": "code",
   "execution_count": null,
   "metadata": {},
   "outputs": [],
   "source": []
  }
 ],
 "metadata": {
  "kernelspec": {
   "display_name": "Python 3",
   "language": "python",
   "name": "python3"
  },
  "language_info": {
   "codemirror_mode": {
    "name": "ipython",
    "version": 3
   },
   "file_extension": ".py",
   "mimetype": "text/x-python",
   "name": "python",
   "nbconvert_exporter": "python",
   "pygments_lexer": "ipython3",
   "version": "3.7.1"
  }
 },
 "nbformat": 4,
 "nbformat_minor": 2
}
