{
 "cells": [
  {
   "cell_type": "markdown",
   "metadata": {},
   "source": [
    "## 前置-元类(MetaClass)\n",
    "```\n",
    "class S:\n",
    "    pass\n",
    "\n",
    "print(type(S))\n",
    "```\n"
   ]
  },
  {
   "cell_type": "code",
   "execution_count": 1,
   "metadata": {},
   "outputs": [
    {
     "name": "stdout",
     "output_type": "stream",
     "text": [
      "say hello\n"
     ]
    }
   ],
   "source": [
    "# 通过type来创建对象\n",
    "def hello(self):\n",
    "    print('say hello')\n",
    "name = 'Student' # 类名\n",
    "bases = (object, ) # 父类集合\n",
    "attrs = {'hello': hello} # 类属性和方法\n",
    "\n",
    "Student = type(name, bases, attrs)\n",
    "s = Student()\n",
    "s.hello()"
   ]
  },
  {
   "cell_type": "code",
   "execution_count": 3,
   "metadata": {},
   "outputs": [
    {
     "data": {
      "text/plain": [
       "[1]"
      ]
     },
     "execution_count": 3,
     "metadata": {},
     "output_type": "execute_result"
    }
   ],
   "source": [
    "# 1. metaclass是类的模板，所以必须从`type`类型派生：\n",
    "class MetaClass(type):\n",
    "    def __new__(cls, name, bases, attrs):\n",
    "        attrs['add'] = lambda self, value: self.append(value)\n",
    "        return type.__new__(cls, name, bases, attrs)\n",
    "\n",
    "# 2. 定义了metaclass，接下来我们要定义类，并指定用metaclass来创建：\n",
    "class MyList(list, metaclass=MetaClass):\n",
    "    pass\n",
    "\n",
    "L = MyList()\n",
    "L.add(1)\n",
    "L"
   ]
  },
  {
   "cell_type": "code",
   "execution_count": 4,
   "metadata": {},
   "outputs": [],
   "source": [
    "class Field:\n",
    "    def __init__(self, name, column_type):\n",
    "        self.name = name\n",
    "        self.column_type = column_type\n",
    "    \n",
    "    def __str__(self):\n",
    "        return '<%s:%s>' % (self.__class__.__name__, self.name)\n",
    "\n",
    "class StringField(Field):\n",
    "    def __init__(self, name):\n",
    "        super(StringField, self).__init__(name, 'varchar(100)')\n",
    "        \n",
    "class IntegerField(Field):\n",
    "    def __init__(self, name):\n",
    "        super(IntegerField, self).__init__(name, 'bigint')"
   ]
  },
  {
   "cell_type": "code",
   "execution_count": 8,
   "metadata": {},
   "outputs": [
    {
     "name": "stdout",
     "output_type": "stream",
     "text": [
      "Found model: Model\n"
     ]
    }
   ],
   "source": [
    "class ModelMetaclass(type):\n",
    "    def __new__(cls, name, bases, attrs):\n",
    "        print('Found model: %s' % name)\n",
    "        if name == 'Model':\n",
    "            return type.__new__(cls, name, bases, attrs)\n",
    "        mappings = dict()\n",
    "        for k, v in attrs.items():\n",
    "            if isinstance(v, Field):\n",
    "                print('Found mapping: %s ==> %s' % (k, v))\n",
    "                mappings[k] = v\n",
    "        for k in mappings.keys():\n",
    "            attrs.pop(k)\n",
    "        attrs['__mappings__'] = mappings    # 保存属性和列的映射关系\n",
    "        attrs['__table__'] = name           # 假设表名和类名一致\n",
    "        return type.__new__(cls, name, bases, attrs)\n",
    "    \n",
    "class Model(dict, metaclass=ModelMetaclass):\n",
    "    def __init__(self, **kwargs):\n",
    "        print(\"Model __init__ : \", kwargs )\n",
    "        super(Model, self).__init__(**kwargs)\n",
    "        \n",
    "    def __getattr__(self, key):\n",
    "        print(\"__getattr__: %s > %s\" % (key,self[key]))\n",
    "        try:\n",
    "            return self[key]\n",
    "        except KeyError:\n",
    "            raise AttributeError(r\"'Model' object has no attribute '%s'\" % key)\n",
    "            \n",
    "    def __setattr__(self, key, value):\n",
    "        print(\"__setattr__ : \", key)\n",
    "        self[key] = value\n",
    "        \n",
    "    def save(self):\n",
    "        fields = []\n",
    "        params = []\n",
    "        args = []\n",
    "        for k, v in self.__mappings__.items():\n",
    "            fields.append(v.name)  # id,username,email,password 字段名\n",
    "            params.append('?')     # ????\n",
    "            args.append(getattr(self, k, None))\n",
    "        sql = 'insert into %s (%s) values (%s)' % (self.__table__, ','.join(fields), ','.join(params))\n",
    "        print('SQL: %s' % sql)\n",
    "        print('ARGS: %s' % str(args))"
   ]
  },
  {
   "cell_type": "code",
   "execution_count": 9,
   "metadata": {},
   "outputs": [
    {
     "name": "stdout",
     "output_type": "stream",
     "text": [
      "Found model: User\n",
      "Found mapping: id ==> <IntegerField:id>\n",
      "Found mapping: name ==> <StringField:name>\n",
      "Found mapping: email ==> <StringField:email>\n",
      "Found mapping: password ==> <StringField:password>\n",
      "Model __init__ :  {'id': 1124, 'name': 'Michael', 'email': 'test@orm.org', 'password': 'pwd'}\n",
      "__getattr__: id > 1124\n",
      "__getattr__: name > Michael\n",
      "__getattr__: email > test@orm.org\n",
      "__getattr__: password > pwd\n",
      "SQL: insert into User (id,name,email,password) values (?,?,?,?)\n",
      "ARGS: [1124, 'Michael', 'test@orm.org', 'pwd']\n"
     ]
    }
   ],
   "source": [
    "class User(Model):\n",
    "    id = IntegerField('id')\n",
    "    name = StringField('name')\n",
    "    email = StringField('email')\n",
    "    password = StringField('password')\n",
    "\n",
    "u = User(id=1124, name='Michael', email='test@orm.org', password='pwd')\n",
    "u.save()"
   ]
  }
 ],
 "metadata": {
  "kernelspec": {
   "display_name": "Python 3",
   "language": "python",
   "name": "python3"
  },
  "language_info": {
   "codemirror_mode": {
    "name": "ipython",
    "version": 3
   },
   "file_extension": ".py",
   "mimetype": "text/x-python",
   "name": "python",
   "nbconvert_exporter": "python",
   "pygments_lexer": "ipython3",
   "version": "3.7.1"
  }
 },
 "nbformat": 4,
 "nbformat_minor": 2
}
