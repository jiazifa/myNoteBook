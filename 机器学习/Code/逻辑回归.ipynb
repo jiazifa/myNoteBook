{
 "cells": [
  {
   "cell_type": "code",
   "execution_count": 2,
   "metadata": {},
   "outputs": [],
   "source": [
    "# 导入包\n",
    "import numpy as np # 科学计算的python库\n",
    "import matplotlib.pyplot as plt # 二维图像库\n",
    "import h5py # 一个从h5文件加载数据集的库\n",
    "import scipy # 用来在最后测试模型\n",
    "from PIL import Image # 同上\n",
    "from scipy import ndimage\n",
    "from lr_utils import load_dataset\n",
    "\n",
    "%matplotlib inline"
   ]
  },
  {
   "cell_type": "code",
   "execution_count": 6,
   "metadata": {},
   "outputs": [
    {
     "name": "stdout",
     "output_type": "stream",
     "text": [
      "y[1], it's a cat' picture.\n"
     ]
    },
    {
     "data": {
      "image/png": "[encoded data removed]",
      "text/plain": [
       "<Figure size 432x288 with 1 Axes>"
      ]
     },
     "metadata": {
      "needs_background": "light"
     },
     "output_type": "display_data"
    }
   ],
   "source": [
    "# 加载数据集， 先要观察一下数据\n",
    "\n",
    "train_x_orig, train_y, test_x_orig, test_y, classes = load_dataset()\n",
    "\"\"\"\n",
    "在变量添加后缀“_orig”用来表示原生数据，将用来预测它们\n",
    "y表示标签，所以我们不需要预测它们\n",
    "\"\"\"\n",
    "index = 2\n",
    "train_x = train_x_orig[index] # 数据是64x64x3的图片描述。宽高64，每位有3位rbg描述\n",
    "plt.imshow(train_x)\n",
    "# squeeze:: 将数组的形状中删除单维的条目，把shape为1的维度去掉\n",
    "print(\"y\" + str(train_y[:, index])  + \", it's a \" + classes[np.squeeze(train_y[:, index])].decode(\"utf-8\") + \"' picture.\")"
   ]
  },
  {
   "cell_type": "code",
   "execution_count": 69,
   "metadata": {},
   "outputs": [],
   "source": [
    "# 许多软件在深度学习中的问题是矩阵/向量的大小不合适，所以需要注意矩阵/向量的大小\n",
    "\"\"\"\n",
    "m_train :: 训练样例\n",
    "m_test :: 测试样例\n",
    "num_px :: 训练图片的宽高\n",
    "(209, 64, 64, 3)\n",
    "有209个数据，每个数据是64x64的大小，每个像素包含了三个数据(rbg)\n",
    "\"\"\"\n",
    "\n",
    "m_train = train_x_orig.shape[0]\n",
    "m_test = test_x_orig.shape[0]\n",
    "num_px = train_x_orig.shape[1]"
   ]
  },
  {
   "cell_type": "code",
   "execution_count": 37,
   "metadata": {},
   "outputs": [
    {
     "name": "stdout",
     "output_type": "stream",
     "text": [
      "train_x_flatten shape: (12288, 209)\n",
      "train_y shape: (1, 209)\n",
      "test_x_flatten shape: (12288, 50)\n",
      "test_y shape: (1, 50)\n",
      "sanity check after reshaping: [17 31 56 22 33]\n"
     ]
    }
   ],
   "source": [
    "\"\"\"\n",
    "方便起见，应该将图片的矩阵转换一下 from (num_px, num_px, 3) -> (num_px*num_px*3, 1)\n",
    "shape :: (height, width)\n",
    "当 reshape 参数为-1 时， 会根据矩阵剩余的维度计算\n",
    "例如 \n",
    "(3, 2, 2) -> reshape (3, -1) -> (3, 4)\n",
    "(3, 2, 2) -> reshape (-1) -> (12, 1)\n",
    "(3, 2, 2) -> reshape (-1, 2) -> (6, 2)\n",
    "(3, 2, 2) -> reshape (-1, 2, 3) -> (2, 2, 3)\n",
    "\"\"\"\n",
    "train_x_flatten = train_x_orig.reshape(train_x_orig.shape[0], -1).T # reshape之后转置是为何 : 应该是为了和y对应\n",
    "test_x_flatten = test_x_orig.reshape(test_x_orig.shape[0], -1).T\n",
    "print(\"train_x_flatten shape: \" + str(train_x_flatten.shape))\n",
    "print(\"train_y shape: \" + str(train_y.shape))\n",
    "print(\"test_x_flatten shape: \" + str(test_x_flatten.shape))\n",
    "print(\"test_y shape: \"+ str(test_y.shape))\n",
    "# 验证一下\n",
    "print(\"sanity check after reshaping: \" + str(train_x_flatten[0: 5, 0]))"
   ]
  },
  {
   "cell_type": "code",
   "execution_count": 12,
   "metadata": {},
   "outputs": [],
   "source": [
    "# 归一化处理\n",
    "train_x = train_x_flatten/255\n",
    "test_x = test_x_flatten/255"
   ]
  },
  {
   "cell_type": "code",
   "execution_count": 64,
   "metadata": {},
   "outputs": [],
   "source": [
    "# 一般的结构学习算法\n",
    "\n",
    "# 逻辑回归实际上是非常简单的神经网络\n",
    "\"\"\"\n",
    "构建一个神经网络的主要步骤有：\n",
    "1. 定义一个模型的结构(例如输入的特征数)\n",
    "2. 初始化模型的参数\n",
    "3. 循环如下\n",
    "    ·计算最近的损失函数(向前传播)\n",
    "    ·计算最近的梯度(向后传播)\n",
    "    ·更新参数{梯度下降法}\n",
    "计算的过程中，会用到sigmoid函数，来完成预测\n",
    "\"\"\"\n",
    "\n",
    "def sigmoid(z):\n",
    "    s = 1 / (1 + np.exp(-z))\n",
    "    return s\n",
    "\n",
    "def initialize_with_zeros(dim: int) -> tuple:\n",
    "    w = np.zeros((dim, 1))\n",
    "    b = 0\n",
    "    assert(w.shape == (dim, 1))\n",
    "    assert(isinstance(b, float) or isinstance(b, int))\n",
    "    return (w, b)\n",
    "\n",
    "\"\"\"\n",
    "矩阵的乘法：\n",
    "m, x 行数\n",
    "n, y 列数\n",
    "[m*n] * [x*y] -> [m*y]\n",
    "\"\"\"\n",
    "def propagate(w, b, X, Y):\n",
    "    m = X.shape[1]\n",
    "    \n",
    "    # 将矩阵按照矩阵的规则相乘\n",
    "    # y hat\n",
    "    A = sigmoid(np.dot(w.T, X) + b) # 先计算出来目标(y hat)再计算损失函数相关\n",
    "    # log 计算以e为底的指数\n",
    "    cost = -1 / m * np.sum(Y * np.log(A) + (1 - Y) * np.log(1 - A))\n",
    "    dw = 1 / m * np.dot(X, (A - Y).T)\n",
    "    db = 1 / m * np.sum(A - Y)\n",
    "    \n",
    "    assert(dw.shape == w.shape)\n",
    "    assert(db.dtype == float)\n",
    "    # 将维度为1的去掉\n",
    "    cost = np.squeeze(cost)\n",
    "    assert(cost.shape == ())\n",
    "    grads = {\n",
    "        \"dw\": dw,\n",
    "        \"db\": db\n",
    "    }\n",
    "    return (grads, cost)\n",
    "\n",
    "def optimize(w, b, X, Y, num_iterations, learning_rate, print_cost=True):\n",
    "    costs = []\n",
    "    for i in range(num_iterations):\n",
    "        grads, cost = propagate(w, b, X, Y)\n",
    "        dw = grads['dw']\n",
    "        db = grads['db']\n",
    "        # 更新参数\n",
    "        # 这里是 减号 的原因是： 如果斜率为正，则说明处于高于”碗底“的地方，需要继续减小损失函数，加减用斜率的正负来调整\n",
    "        w = w - dw * learning_rate\n",
    "        b = b - db * learning_rate\n",
    "        if i % int(num_iterations/10) == 0:\n",
    "            if print_cost:\n",
    "                print(\"Cost after iteration %i: %f\" %(i, cost))\n",
    "            costs.append(cost)\n",
    "    params = {\n",
    "        'w': w,\n",
    "        'b': b\n",
    "    }\n",
    "    grads = {\n",
    "        'dw': dw,\n",
    "        'db': db\n",
    "    }\n",
    "    return params, grads, costs\n",
    "\n",
    "def predict(w, b, X):\n",
    "    m = X.shape[1]\n",
    "    yhat = np.zeros((1, m))\n",
    "    w = w.reshape(X.shape[0], 1)\n",
    "    A = sigmoid(np.dot(w.T, X) + b)\n",
    "    for i in range(A.shape[1]):\n",
    "        if A[0, i] <= 0.5:\n",
    "            yhat[0, i] = 0\n",
    "        else:\n",
    "            yhat[0, i] = 1\n",
    "    assert(yhat.shape == (1, m))\n",
    "    return yhat"
   ]
  },
  {
   "cell_type": "code",
   "execution_count": 65,
   "metadata": {},
   "outputs": [
    {
     "name": "stdout",
     "output_type": "stream",
     "text": [
      "Cost after iteration 0: 0.693147\n",
      "Cost after iteration 200: 0.466949\n",
      "Cost after iteration 400: 0.331463\n",
      "Cost after iteration 600: 0.279880\n",
      "Cost after iteration 800: 0.242941\n",
      "Cost after iteration 1000: 0.214820\n",
      "Cost after iteration 1200: 0.192544\n",
      "Cost after iteration 1400: 0.174399\n",
      "Cost after iteration 1600: 0.159305\n",
      "Cost after iteration 1800: 0.146542\n"
     ]
    }
   ],
   "source": [
    "w, b = initialize_with_zeros(train_x.shape[0])\n",
    "params, grads, costs = optimize(w, b, train_x, train_y, 2000, 0.005)\n",
    "# 预测"
   ]
  },
  {
   "cell_type": "code",
   "execution_count": 68,
   "metadata": {},
   "outputs": [
    {
     "data": {
      "image/png": "[encoded data removed]",
      "text/plain": [
       "<Figure size 432x288 with 1 Axes>"
      ]
     },
     "metadata": {
      "needs_background": "light"
     },
     "output_type": "display_data"
    }
   ],
   "source": [
    "w = params['w']\n",
    "b = params['b']\n",
    "yhat = predict(w, b, test_x)\n",
    "costs = np.squeeze(costs)\n",
    "plt.plot(costs)\n",
    "plt.xlabel('iterations(per hundreds)')\n",
    "plt.ylabel('costs')\n",
    "plt.title(\"Learning rate =\" + str(0.005))\n",
    "plt.show()"
   ]
  }
 ],
 "metadata": {
  "kernelspec": {
   "display_name": "Python 3",
   "language": "python",
   "name": "python3"
  },
  "language_info": {
   "codemirror_mode": {
    "name": "ipython",
    "version": 3
   },
   "file_extension": ".py",
   "mimetype": "text/x-python",
   "name": "python",
   "nbconvert_exporter": "python",
   "pygments_lexer": "ipython3",
   "version": "3.6.8"
  }
 },
 "nbformat": 4,
 "nbformat_minor": 2
}
