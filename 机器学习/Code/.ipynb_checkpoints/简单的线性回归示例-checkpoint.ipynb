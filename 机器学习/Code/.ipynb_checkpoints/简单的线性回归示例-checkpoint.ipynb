{
 "cells": [
  {
   "cell_type": "code",
   "execution_count": 4,
   "metadata": {},
   "outputs": [],
   "source": [
    "import numpy as np\n",
    "from sklearn import datasets, linear_model\n",
    "from sklearn.metrics import mean_squared_error, r2_score\n",
    "import matplotlib.pyplot as plt # 绘图库\n",
    "%load_ext autoreload\n",
    "%autoreload 2"
   ]
  },
  {
   "cell_type": "markdown",
   "metadata": {},
   "source": [
    "## 此示例为了传达一些基本的概念\n",
    "\n",
    "* [纯概念传送门](https://jiazifa.github.io/tree.github.io/%E7%AC%94%E8%AE%B0/2018/02/01/%E9%80%BB%E8%BE%91%E5%9B%9E%E5%BD%92%E8%A6%81%E7%82%B9%E6%80%BB%E7%BB%93/)\n",
    "\n",
    "**我们将使用线性回归来拟合一元一次方程**"
   ]
  },
  {
   "cell_type": "code",
   "execution_count": 5,
   "metadata": {},
   "outputs": [
    {
     "data": {
      "text/plain": [
       "(200,)"
      ]
     },
     "execution_count": 5,
     "metadata": {},
     "output_type": "execute_result"
    }
   ],
   "source": [
    "w = 100\n",
    "b = 5\n",
    "# 制造一些数据 , 从 -10 - 10 步长为 0.1\n",
    "origin_x = np.arange(-10, 10, 0.1) \n",
    "origin_y = origin_x * w + b # 在这里我们设置的 w = -3, b = 2\n",
    "\n",
    "# 制作一些测试数据，来验证我们的准确率\n",
    "test_x = np.arange(3, 5, 0.5)\n",
    "test_y = test_x * w + b\n",
    "origin_x.shape"
   ]
  },
  {
   "cell_type": "code",
   "execution_count": 6,
   "metadata": {},
   "outputs": [
    {
     "data": {
      "image/png": "[encoded data removed]",
      "text/plain": [
       "<Figure size 432x288 with 1 Axes>"
      ]
     },
     "metadata": {
      "needs_background": "light"
     },
     "output_type": "display_data"
    }
   ],
   "source": [
    "# 现在绘制我们的数据，来观察一下\n",
    "plt.title(str(w) + 'x' + '+' + str(b))\n",
    "plt.plot(origin_x, origin_y)\n",
    "plt.xlabel('x')\n",
    "plt.ylabel('y')\n",
    "plt.show()"
   ]
  },
  {
   "cell_type": "code",
   "execution_count": 7,
   "metadata": {},
   "outputs": [],
   "source": [
    "# 引入辅助函数 sigmoid \n",
    "def sigmoid(z):\n",
    "    s = 1 / (1 + np.exp(-z))\n",
    "    return s\n",
    "\n",
    "# 初始化参数的函数\n",
    "def init_with_zeros(dim: int):\n",
    "    w = np.zeros((dim, 1))\n",
    "    b = 0\n",
    "    return w, b\n",
    "\n",
    "# 求导数（对参数求偏导，后续更新参数值）\n",
    "def prograde(w, b, X, Y):\n",
    "    m = Y.shape[1] # 样本数\n",
    "    A = np.dot(w.T, X) + b\n",
    "    cost = 1/m*np.sum((A-Y)*(A-Y))# 获得损失函数, 这里我们使用了L2 等价于np.dot((Y - yhat), (Y - yhat).T)\n",
    "    dw = 1/m*np.dot(X, (A-Y).T) # w 的偏导数\n",
    "    db = 1/m*np.sum(A-Y) # b 的偏导数\n",
    "    grads = {\n",
    "        \"dw\": dw,\n",
    "        \"db\": db\n",
    "    }\n",
    "    return grads, cost"
   ]
  },
  {
   "cell_type": "code",
   "execution_count": 8,
   "metadata": {},
   "outputs": [],
   "source": [
    "# 优化流程\n",
    "def optimize(w, b, X, Y, num_iterations, learning_rate, print_cost=True):\n",
    "    \"\"\"\n",
    "    w, b, X, Y: params\n",
    "    num_iterations: 迭代次数\n",
    "    learning_rate: 决定了修正参数的步长为 learning_rate * 修正量\n",
    "    \"\"\"\n",
    "    costs = []\n",
    "    for i in range(num_iterations):\n",
    "        grads, cost = prograde(w, b, X, Y)\n",
    "        dw = grads[\"dw\"]\n",
    "        db = grads[\"db\"]\n",
    "        w = w - learning_rate * dw\n",
    "        b = b - learning_rate * db\n",
    "        if i % int(num_iterations/10) == 0:\n",
    "            if print_cost:\n",
    "                print(\"Cost after iteration %i: %f\" %(i, cost))\n",
    "            costs.append(cost)\n",
    "    params = {\n",
    "        \"w\": w,\n",
    "        \"b\": b\n",
    "    }\n",
    "    return params, costs\n"
   ]
  },
  {
   "cell_type": "markdown",
   "metadata": {},
   "source": [
    "# 流程总结\n",
    "\n",
    "* 观察数据\n",
    "* 初始化参数值\n",
    "* 迭代优化参数\n",
    "    * 根据损失函数计算出偏导数\n",
    "    * 根据学习率修正参数，继续迭代"
   ]
  },
  {
   "cell_type": "code",
   "execution_count": 15,
   "metadata": {},
   "outputs": [
    {
     "name": "stdout",
     "output_type": "stream",
     "text": [
      "Cost after iteration 0: 333325.000000\n",
      "Cost after iteration 150: 1.303229\n",
      "Cost after iteration 300: 0.063926\n",
      "Cost after iteration 450: 0.003136\n",
      "Cost after iteration 600: 0.000154\n",
      "Cost after iteration 750: 0.000008\n",
      "Cost after iteration 900: 0.000000\n",
      "Cost after iteration 1050: 0.000000\n",
      "Cost after iteration 1200: 0.000000\n",
      "Cost after iteration 1350: 0.000000\n"
     ]
    },
    {
     "data": {
      "text/plain": [
       "{'w': array([[100.]]), 'b': 4.999998536147974}"
      ]
     },
     "execution_count": 15,
     "metadata": {},
     "output_type": "execute_result"
    }
   ],
   "source": [
    "\n",
    "origin_x = origin_x.reshape(1, -1)\n",
    "origin_y = origin_y.reshape(1, -1)\n",
    "\n",
    "test_x = test_x.reshape(1, -1)\n",
    "test_y = test_y.reshape(1, -1)\n",
    "\n",
    "w, b = init_with_zeros(origin_x.shape[0])\n",
    "params, costs = optimize(w, b, origin_x, origin_y, 1500, 0.01)\n",
    "params"
   ]
  },
  {
   "cell_type": "code",
   "execution_count": 30,
   "metadata": {},
   "outputs": [
    {
     "name": "stdout",
     "output_type": "stream",
     "text": [
      "Mean squared error: 0.00\n"
     ]
    }
   ],
   "source": [
    "# 使用 sklearn 来实现上述功能\n",
    "regr = linear_model.LinearRegression()\n",
    "regr.fit(origin_x.T, origin_y.T)\n",
    "y_pred = regr.predict(test_x.T)\n",
    "print(\"Mean squared error: %.2f\"\n",
    "      % mean_squared_error(y_pred, test_y.T))"
   ]
  },
  {
   "cell_type": "markdown",
   "metadata": {},
   "source": [
    "# 使用 sklearn 的版本"
   ]
  },
  {
   "cell_type": "code",
   "execution_count": 10,
   "metadata": {},
   "outputs": [
    {
     "name": "stdout",
     "output_type": "stream",
     "text": [
      "Coefficients: \n",
      " [938.23786125]\n",
      "Mean squared error: 2548.07\n",
      "Variance score: 0.47\n",
      "diabetes_X_train.shape = (422, 1)\n",
      "diabetes_y_train.shape = (422,)\n"
     ]
    },
    {
     "data": {
      "image/png": "[encoded data removed]",
      "text/plain": [
       "<Figure size 432x288 with 1 Axes>"
      ]
     },
     "metadata": {},
     "output_type": "display_data"
    }
   ],
   "source": [
    "# Load the diabetes dataset\n",
    "diabetes = datasets.load_diabetes()\n",
    "\n",
    "\n",
    "# Use only one feature\n",
    "diabetes_X = diabetes.data[:, np.newaxis, 2]\n",
    "\n",
    "# Split the data into training/testing sets\n",
    "diabetes_X_train = diabetes_X[:-20]\n",
    "diabetes_X_test = diabetes_X[-20:]\n",
    "\n",
    "# Split the targets into training/testing sets\n",
    "diabetes_y_train = diabetes.target[:-20]\n",
    "diabetes_y_test = diabetes.target[-20:]\n",
    "\n",
    "# Create linear regression object\n",
    "regr = linear_model.LinearRegression()\n",
    "\n",
    "# Train the model using the training sets\n",
    "regr.fit(diabetes_X_train, diabetes_y_train)\n",
    "\n",
    "# Make predictions using the testing set\n",
    "diabetes_y_pred = regr.predict(diabetes_X_test)\n",
    "\n",
    "# The coefficients\n",
    "print('Coefficients: \\n', regr.coef_)\n",
    "# The mean squared error\n",
    "print(\"Mean squared error: %.2f\"\n",
    "      % mean_squared_error(diabetes_y_test, diabetes_y_pred))\n",
    "# Explained variance score: 1 is perfect prediction\n",
    "print('Variance score: %.2f' % r2_score(diabetes_y_test, diabetes_y_pred))\n",
    "\n",
    "print('diabetes_X_train.shape = ' + str(diabetes_X_train.shape))\n",
    "print('diabetes_y_train.shape = ' + str(diabetes_y_train.shape))\n",
    "\n",
    "# Plot outputs\n",
    "plt.scatter(diabetes_X_test, diabetes_y_test,  color='black')\n",
    "plt.plot(diabetes_X_test, diabetes_y_pred, color='blue', linewidth=3)\n",
    "\n",
    "plt.xticks(())\n",
    "plt.yticks(())\n",
    "\n",
    "plt.show()"
   ]
  },
  {
   "cell_type": "code",
   "execution_count": null,
   "metadata": {},
   "outputs": [],
   "source": []
  }
 ],
 "metadata": {
  "kernelspec": {
   "display_name": "Python 3",
   "language": "python",
   "name": "python3"
  },
  "language_info": {
   "codemirror_mode": {
    "name": "ipython",
    "version": 3
   },
   "file_extension": ".py",
   "mimetype": "text/x-python",
   "name": "python",
   "nbconvert_exporter": "python",
   "pygments_lexer": "ipython3",
   "version": "3.6.8"
  }
 },
 "nbformat": 4,
 "nbformat_minor": 2
}
