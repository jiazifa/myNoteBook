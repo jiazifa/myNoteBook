{
 "cells": [
  {
   "cell_type": "markdown",
   "metadata": {},
   "source": [
    "# 一种先进后出(FILO) 的模型"
   ]
  },
  {
   "cell_type": "code",
   "execution_count": 42,
   "metadata": {},
   "outputs": [],
   "source": [
    "class Stack:\n",
    "    def __init__(self, array: list):\n",
    "        self._array = array\n",
    "    \n",
    "    def count(self):\n",
    "        return len(self._array)\n",
    "    \n",
    "    def isempty(self):\n",
    "        return self.count() == 0\n",
    "    \n",
    "    def push(self, obj):\n",
    "        # 入栈\n",
    "        self._array.append(obj)\n",
    "        \n",
    "    def pop(self) -> any:\n",
    "        return self._array.pop(-1)\n",
    "    \n",
    "    def __iter__(self):\n",
    "        return self\n",
    "    \n",
    "    def __next__(self):\n",
    "        if self.isempty():\n",
    "            raise StopIteration()\n",
    "        return self.pop()\n"
   ]
  },
  {
   "cell_type": "code",
   "execution_count": 43,
   "metadata": {},
   "outputs": [
    {
     "data": {
      "text/plain": [
       "[7, 6, 5, 3, 2, 1]"
      ]
     },
     "execution_count": 43,
     "metadata": {},
     "output_type": "execute_result"
    }
   ],
   "source": [
    "stack = Stack([1, 2, 3, 5, 6])\n",
    "stack.push(7)\n",
    "[it for it in stack]"
   ]
  }
 ],
 "metadata": {
  "kernelspec": {
   "display_name": "Python 3",
   "language": "python",
   "name": "python3"
  },
  "language_info": {
   "codemirror_mode": {
    "name": "ipython",
    "version": 3
   },
   "file_extension": ".py",
   "mimetype": "text/x-python",
   "name": "python",
   "nbconvert_exporter": "python",
   "pygments_lexer": "ipython3",
   "version": "3.7.1"
  }
 },
 "nbformat": 4,
 "nbformat_minor": 2
}
