{
 "cells": [
  {
   "cell_type": "markdown",
   "metadata": {},
   "source": [
    "# 基本概念\n",
    "\n",
    "“协程”（Coroutine）概念最早由 Melvin Conway 于1958年提出。协程可以理解为纯用户态的线程，其通过协作而不是抢占来进行切换。相对于进程或者线程，协程所有的操作都可以在用户态完成，创建和切换的消耗更低。总的来说，协程为协同任务提供了一种运行时抽象，这种抽象非常适合于协同多任务调度和数据流处理。在现代操作系统和编程语言中，因为用户态线程切换代价比内核态线程小，协程成为了一种轻量级的多任务模型。\n",
    "\n",
    "从编程角度上看，协程的思想本质上就是控制流的主动让出（yield）和恢复（resume）机制，迭代器常被用来实现协程，所以大部分的语言实现的协程中都有yield关键字，比如Python、PHP、Lua。但也有特殊比如Go就使用的是通道来通信。\n",
    "\n",
    "# 协程与进程线程的区别\n",
    "\n",
    "- 对于操作系统来说只有进程和线程，协程的控制由应用程序显式调度，非抢占式的\n",
    "- 协程的执行最终靠的还是线程，应用程序来调度协程选择合适的线程来获取执行权\n",
    "- 切换非常快，成本低。一般占用栈大小远小于线程（协程KB级别，线程MB级别），所以可以开更多的协程\n",
    "- 协程比线程更轻量级"
   ]
  },
  {
   "cell_type": "code",
   "execution_count": 1,
   "metadata": {},
   "outputs": [],
   "source": [
    "import time, random\n",
    "\n",
    "\"\"\"从 yield 引出的, 本身不会直接将全部结果计算出来，而是会生成一个迭代器，\"\"\"\n",
    "def fib(n):\n",
    "    index = 0\n",
    "    a = 0\n",
    "    b = 1\n",
    "    while index < n:\n",
    "        yield b\n",
    "        a, b = b, a + b\n",
    "        index += 1\n",
    "\n",
    "\n",
    "for i in fib(20):\n",
    "    pass # 1, 1, 2, 3, 5, 8..."
   ]
  },
  {
   "cell_type": "code",
   "execution_count": 10,
   "metadata": {},
   "outputs": [
    {
     "name": "stdout",
     "output_type": "stream",
     "text": [
      "1\n",
      "recv4\n"
     ]
    },
    {
     "data": {
      "text/plain": [
       "1"
      ]
     },
     "execution_count": 10,
     "metadata": {},
     "output_type": "execute_result"
    }
   ],
   "source": [
    "\"\"\" 可以通过send 函数，与yield 流出配合，完成通信 \"\"\"\n",
    "# 在此例子中，通过send(4) 可赋予函数中 sleep_cnt 值\n",
    "def stupid_fib(n):\n",
    "    index = 0\n",
    "    a = 0\n",
    "    b = 1\n",
    "    while index < n:\n",
    "        sleep_cnt = yield b\n",
    "        print(\"recv\" + str(sleep_cnt))\n",
    "        a, b = b, a + b\n",
    "        index += 1\n",
    "N = 20\n",
    "sfib = stupid_fib(N)\n",
    "fib_res = next(sfib)\n",
    "print(fib_res)\n",
    "sfib.send(4)"
   ]
  },
  {
   "cell_type": "code",
   "execution_count": 13,
   "metadata": {},
   "outputs": [
    {
     "name": "stdout",
     "output_type": "stream",
     "text": [
      "I am copy from fib\n",
      "1\n",
      "1\n",
      "2\n",
      "3\n",
      "Copy end\n"
     ]
    }
   ],
   "source": [
    "\"\"\"yield from 用于重构生成器， 还可以像管道一样将send信息传递给内层协程\"\"\"\n",
    "def copy_fib(n):\n",
    "    print('I am copy from fib')\n",
    "    yield from fib(n)\n",
    "    print('Copy end')\n",
    "for fib_res in copy_fib(4):\n",
    "    print(fib_res)"
   ]
  },
  {
   "cell_type": "markdown",
   "metadata": {},
   "source": [
    "# 协程 asyncio (async/await)\n",
    "\n",
    "```\n",
    "\n",
    "import asyncio\n",
    "\n",
    "async def main():\n",
    "    print('Hello ...')\n",
    "    await asyncio.sleep(1)\n",
    "    print('... World!')\n",
    "\n",
    "# Python 3.7+\n",
    "asyncio.run(main())\n",
    "\n",
    "```"
   ]
  },
  {
   "cell_type": "code",
   "execution_count": 14,
   "metadata": {},
   "outputs": [],
   "source": [
    "import asyncio"
   ]
  },
  {
   "cell_type": "code",
   "execution_count": 21,
   "metadata": {},
   "outputs": [],
   "source": [
    "async def compute(x, y):\n",
    "    print('Compute ' + str(x) + '+' + str(y))\n",
    "    await asyncio.sleep(1)\n",
    "    return x + y\n",
    "\n",
    "async def print_sum(x, y):\n",
    "    result = await compute(x, y)\n",
    "    print(str(x) + '+' + str(y) + '=' + str(result))\n",
    "    \n",
    "loop = asyncio.get_event_loop()\n",
    "if not loop.is_running:\n",
    "    loop.run_until_complete(print_sum(1, 2)) # \n",
    "    loop.close()"
   ]
  },
  {
   "cell_type": "code",
   "execution_count": null,
   "metadata": {},
   "outputs": [],
   "source": []
  }
 ],
 "metadata": {
  "kernelspec": {
   "display_name": "Python 3",
   "language": "python",
   "name": "python3"
  },
  "language_info": {
   "codemirror_mode": {
    "name": "ipython",
    "version": 3
   },
   "file_extension": ".py",
   "mimetype": "text/x-python",
   "name": "python",
   "nbconvert_exporter": "python",
   "pygments_lexer": "ipython3",
   "version": "3.7.1"
  }
 },
 "nbformat": 4,
 "nbformat_minor": 2
}
